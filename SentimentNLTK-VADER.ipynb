{
 "cells": [
  {
   "cell_type": "code",
   "execution_count": 1,
   "metadata": {},
   "outputs": [
    {
     "name": "stdout",
     "output_type": "stream",
     "text": [
      "0 blanks:  []\n",
      "              precision    recall  f1-score   support\n",
      "\n",
      "    Negative       0.85      0.48      0.61      1016\n",
      "    Positive       0.63      0.91      0.74       984\n",
      "\n",
      "    accuracy                           0.69      2000\n",
      "   macro avg       0.74      0.69      0.68      2000\n",
      "weighted avg       0.74      0.69      0.68      2000\n",
      "\n",
      "[[486 530]\n",
      " [ 88 896]]\n",
      "0.691\n"
     ]
    }
   ],
   "source": [
    "import pandas as pd\n",
    "import numpy as np \n",
    "\n",
    "df = pd.read_csv('D:/UPDATED_NLP_COURSE/customer_feedback_2000.csv')\n",
    "df.head()   \n",
    "\n",
    "df.isnull().sum()\n",
    "\n",
    "blanks = []\n",
    "for i, feedback, label in df.itertuples():\n",
    "    if type(feedback)==str:\n",
    "        if feedback.isspace():\n",
    "            blanks.append(i)    \n",
    "\n",
    "print(len(blanks), 'blanks: ', blanks)\n",
    "\n",
    "df['label'].value_counts()\n",
    "\n",
    "\n",
    "from nltk.sentiment.vader import SentimentIntensityAnalyzer\n",
    "\n",
    "sid = SentimentIntensityAnalyzer()\n",
    "\n",
    "df['scores'] = df['feedback'].apply(lambda feedback: sid.polarity_scores(feedback))\n",
    "\n",
    "df['compound']  = df['scores'].apply(lambda score_dict: score_dict['compound'])\n",
    "\n",
    "df['comp_score'] = df['compound'].apply(lambda c: 'Positive' if c >=0 else 'Negative')\n",
    "\n",
    "df.head()\n",
    "\n",
    "from sklearn.metrics import accuracy_score, classification_report, confusion_matrix\n",
    "accuracy_score(df['label'], df['comp_score'])\n",
    "\n",
    "print(classification_report(df['label'], df['comp_score']))\n",
    "print(confusion_matrix(df['label'], df['comp_score'])) \n",
    "print(accuracy_score(df['label'], df['comp_score']))\n"
   ]
  },
  {
   "cell_type": "code",
   "execution_count": null,
   "metadata": {},
   "outputs": [],
   "source": []
  }
 ],
 "metadata": {
  "kernelspec": {
   "display_name": "nlp_course_py38",
   "language": "python",
   "name": "python3"
  },
  "language_info": {
   "codemirror_mode": {
    "name": "ipython",
    "version": 3
   },
   "file_extension": ".py",
   "mimetype": "text/x-python",
   "name": "python",
   "nbconvert_exporter": "python",
   "pygments_lexer": "ipython3",
   "version": "3.8.20"
  }
 },
 "nbformat": 4,
 "nbformat_minor": 2
}
